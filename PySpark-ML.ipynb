{
 "cells": [
  {
   "cell_type": "markdown",
   "metadata": {},
   "source": [
    "# Machine Learning With PySpark"
   ]
  },
  {
   "cell_type": "code",
   "execution_count": 2,
   "metadata": {},
   "outputs": [],
   "source": [
    "from pyspark import SparkContext"
   ]
  },
  {
   "cell_type": "code",
   "execution_count": 6,
   "metadata": {},
   "outputs": [],
   "source": [
    "# Run in the terminal\n",
    "# import psutil\n",
    "# psutil.spu_count()"
   ]
  },
  {
   "cell_type": "code",
   "execution_count": 3,
   "metadata": {},
   "outputs": [],
   "source": [
    "sc = SparkContext(master=\"local[2]\") # 2 is the number of process I want to use"
   ]
  },
  {
   "cell_type": "code",
   "execution_count": 7,
   "metadata": {},
   "outputs": [
    {
     "data": {
      "text/html": [
       "\n",
       "        <div>\n",
       "            <p><b>SparkContext</b></p>\n",
       "\n",
       "            <p><a href=\"http://192.168.1.9:4040\">Spark UI</a></p>\n",
       "\n",
       "            <dl>\n",
       "              <dt>Version</dt>\n",
       "                <dd><code>v3.1.1</code></dd>\n",
       "              <dt>Master</dt>\n",
       "                <dd><code>local[2]</code></dd>\n",
       "              <dt>AppName</dt>\n",
       "                <dd><code>pyspark-shell</code></dd>\n",
       "            </dl>\n",
       "        </div>\n",
       "        "
      ],
      "text/plain": [
       "<SparkContext master=local[2] appName=pyspark-shell>"
      ]
     },
     "execution_count": 7,
     "metadata": {},
     "output_type": "execute_result"
    }
   ],
   "source": [
    "# Using Spark UI\n",
    "sc"
   ]
  },
  {
   "cell_type": "markdown",
   "metadata": {},
   "source": [
    "#### Basic /PySpark Crash Course"
   ]
  },
  {
   "cell_type": "code",
   "execution_count": 10,
   "metadata": {},
   "outputs": [],
   "source": [
    "import pyspark"
   ]
  },
  {
   "cell_type": "code",
   "execution_count": 11,
   "metadata": {},
   "outputs": [
    {
     "data": {
      "text/plain": [
       "['Accumulator',\n",
       " 'AccumulatorParam',\n",
       " 'BarrierTaskContext',\n",
       " 'BarrierTaskInfo',\n",
       " 'BasicProfiler',\n",
       " 'Broadcast',\n",
       " 'HiveContext',\n",
       " 'InheritableThread',\n",
       " 'MarshalSerializer',\n",
       " 'PickleSerializer',\n",
       " 'Profiler',\n",
       " 'RDD',\n",
       " 'RDDBarrier',\n",
       " 'Row',\n",
       " 'SQLContext',\n",
       " 'SparkConf',\n",
       " 'SparkContext',\n",
       " 'SparkFiles',\n",
       " 'SparkJobInfo',\n",
       " 'SparkStageInfo',\n",
       " 'StatusTracker',\n",
       " 'StorageLevel',\n",
       " 'TaskContext',\n",
       " '_NoValue',\n",
       " '__all__',\n",
       " '__builtins__',\n",
       " '__cached__',\n",
       " '__doc__',\n",
       " '__file__',\n",
       " '__loader__',\n",
       " '__name__',\n",
       " '__package__',\n",
       " '__path__',\n",
       " '__spec__',\n",
       " '__version__',\n",
       " '_globals',\n",
       " 'accumulators',\n",
       " 'broadcast',\n",
       " 'cloudpickle',\n",
       " 'conf',\n",
       " 'context',\n",
       " 'copy_func',\n",
       " 'files',\n",
       " 'find_spark_home',\n",
       " 'java_gateway',\n",
       " 'join',\n",
       " 'keyword_only',\n",
       " 'profiler',\n",
       " 'rdd',\n",
       " 'rddsampler',\n",
       " 'resource',\n",
       " 'resultiterable',\n",
       " 'serializers',\n",
       " 'shuffle',\n",
       " 'since',\n",
       " 'sql',\n",
       " 'statcounter',\n",
       " 'status',\n",
       " 'storagelevel',\n",
       " 'taskcontext',\n",
       " 'traceback_utils',\n",
       " 'types',\n",
       " 'util',\n",
       " 'version',\n",
       " 'wraps']"
      ]
     },
     "execution_count": 11,
     "metadata": {},
     "output_type": "execute_result"
    }
   ],
   "source": [
    "# Methods/Attrib\n",
    "dir(pyspark)"
   ]
  },
  {
   "cell_type": "code",
   "execution_count": 12,
   "metadata": {},
   "outputs": [],
   "source": [
    "from pyspark.sql import SparkSession"
   ]
  },
  {
   "cell_type": "code",
   "execution_count": 13,
   "metadata": {},
   "outputs": [],
   "source": [
    "# Spark Session used for DF\n",
    "# spark = SparkSession.builder.getOrCreate()\n",
    "spark = SparkSession.builder.appName(\"MLwithSpark\").getOrCreate() # To choose a app name"
   ]
  },
  {
   "cell_type": "code",
   "execution_count": 18,
   "metadata": {},
   "outputs": [],
   "source": [
    "# read CSV with header/schema\n",
    "df = spark.read.csv(\"data/hcvdata.csv\")"
   ]
  },
  {
   "cell_type": "code",
   "execution_count": 19,
   "metadata": {},
   "outputs": [
    {
     "name": "stdout",
     "output_type": "stream",
     "text": [
      "+----+-------------+---+---+----+----+----+----+----+-----+----+----+----+----+\n",
      "| _c0|          _c1|_c2|_c3| _c4| _c5| _c6| _c7| _c8|  _c9|_c10|_c11|_c12|_c13|\n",
      "+----+-------------+---+---+----+----+----+----+----+-----+----+----+----+----+\n",
      "|null|     Category|Age|Sex| ALB| ALP| ALT| AST| BIL|  CHE|CHOL|CREA| GGT|PROT|\n",
      "|   1|0=Blood Donor| 32|  m|38.5|52.5| 7.7|22.1| 7.5| 6.93|3.23| 106|12.1|  69|\n",
      "|   2|0=Blood Donor| 32|  m|38.5|70.3|  18|24.7| 3.9|11.17| 4.8|  74|15.6|76.5|\n",
      "|   3|0=Blood Donor| 32|  m|46.9|74.7|36.2|52.6| 6.1| 8.84| 5.2|  86|33.2|79.3|\n",
      "|   4|0=Blood Donor| 32|  m|43.2|  52|30.6|22.6|18.9| 7.33|4.74|  80|33.8|75.7|\n",
      "+----+-------------+---+---+----+----+----+----+----+-----+----+----+----+----+\n",
      "only showing top 5 rows\n",
      "\n"
     ]
    }
   ],
   "source": [
    "# Preview Data\n",
    "df.show(5)"
   ]
  },
  {
   "cell_type": "code",
   "execution_count": 61,
   "metadata": {},
   "outputs": [],
   "source": [
    "# read CSV with header\n",
    "df = spark.read.csv(\"data/hcvdata.csv\", header=True)"
   ]
  },
  {
   "cell_type": "code",
   "execution_count": 23,
   "metadata": {},
   "outputs": [
    {
     "name": "stdout",
     "output_type": "stream",
     "text": [
      "+---+-------------+---+---+----+----+----+----+----+-----+----+----+----+----+\n",
      "|_c0|     Category|Age|Sex| ALB| ALP| ALT| AST| BIL|  CHE|CHOL|CREA| GGT|PROT|\n",
      "+---+-------------+---+---+----+----+----+----+----+-----+----+----+----+----+\n",
      "|  1|0=Blood Donor| 32|  m|38.5|52.5| 7.7|22.1| 7.5| 6.93|3.23| 106|12.1|  69|\n",
      "|  2|0=Blood Donor| 32|  m|38.5|70.3|  18|24.7| 3.9|11.17| 4.8|  74|15.6|76.5|\n",
      "|  3|0=Blood Donor| 32|  m|46.9|74.7|36.2|52.6| 6.1| 8.84| 5.2|  86|33.2|79.3|\n",
      "|  4|0=Blood Donor| 32|  m|43.2|  52|30.6|22.6|18.9| 7.33|4.74|  80|33.8|75.7|\n",
      "|  5|0=Blood Donor| 32|  m|39.2|74.1|32.6|24.8| 9.6| 9.15|4.32|  76|29.9|68.7|\n",
      "+---+-------------+---+---+----+----+----+----+----+-----+----+----+----+----+\n",
      "only showing top 5 rows\n",
      "\n"
     ]
    }
   ],
   "source": [
    "df.show(5)"
   ]
  },
  {
   "cell_type": "code",
   "execution_count": 24,
   "metadata": {},
   "outputs": [
    {
     "data": {
      "text/plain": [
       "Row(_c0='1', Category='0=Blood Donor', Age='32', Sex='m', ALB='38.5', ALP='52.5', ALT='7.7', AST='22.1', BIL='7.5', CHE='6.93', CHOL='3.23', CREA='106', GGT='12.1', PROT='69')"
      ]
     },
     "execution_count": 24,
     "metadata": {},
     "output_type": "execute_result"
    }
   ],
   "source": [
    "# Get first row\n",
    "df.first()"
   ]
  },
  {
   "cell_type": "code",
   "execution_count": 25,
   "metadata": {},
   "outputs": [
    {
     "data": {
      "text/plain": [
       "[Row(_c0='1', Category='0=Blood Donor', Age='32', Sex='m', ALB='38.5', ALP='52.5', ALT='7.7', AST='22.1', BIL='7.5', CHE='6.93', CHOL='3.23', CREA='106', GGT='12.1', PROT='69'),\n",
       " Row(_c0='2', Category='0=Blood Donor', Age='32', Sex='m', ALB='38.5', ALP='70.3', ALT='18', AST='24.7', BIL='3.9', CHE='11.17', CHOL='4.8', CREA='74', GGT='15.6', PROT='76.5'),\n",
       " Row(_c0='3', Category='0=Blood Donor', Age='32', Sex='m', ALB='46.9', ALP='74.7', ALT='36.2', AST='52.6', BIL='6.1', CHE='8.84', CHOL='5.2', CREA='86', GGT='33.2', PROT='79.3'),\n",
       " Row(_c0='4', Category='0=Blood Donor', Age='32', Sex='m', ALB='43.2', ALP='52', ALT='30.6', AST='22.6', BIL='18.9', CHE='7.33', CHOL='4.74', CREA='80', GGT='33.8', PROT='75.7'),\n",
       " Row(_c0='5', Category='0=Blood Donor', Age='32', Sex='m', ALB='39.2', ALP='74.1', ALT='32.6', AST='24.8', BIL='9.6', CHE='9.15', CHOL='4.32', CREA='76', GGT='29.9', PROT='68.7')]"
      ]
     },
     "execution_count": 25,
     "metadata": {},
     "output_type": "execute_result"
    }
   ],
   "source": [
    "# Get Head\n",
    "df.head(5)"
   ]
  },
  {
   "cell_type": "code",
   "execution_count": 27,
   "metadata": {},
   "outputs": [
    {
     "data": {
      "text/plain": [
       "['_c0',\n",
       " 'Category',\n",
       " 'Age',\n",
       " 'Sex',\n",
       " 'ALB',\n",
       " 'ALP',\n",
       " 'ALT',\n",
       " 'AST',\n",
       " 'BIL',\n",
       " 'CHE',\n",
       " 'CHOL',\n",
       " 'CREA',\n",
       " 'GGT',\n",
       " 'PROT']"
      ]
     },
     "execution_count": 27,
     "metadata": {},
     "output_type": "execute_result"
    }
   ],
   "source": [
    "# Check for the column names\n",
    "df.columns"
   ]
  },
  {
   "cell_type": "code",
   "execution_count": 29,
   "metadata": {},
   "outputs": [
    {
     "data": {
      "text/plain": [
       "[('_c0', 'string'),\n",
       " ('Category', 'string'),\n",
       " ('Age', 'string'),\n",
       " ('Sex', 'string'),\n",
       " ('ALB', 'string'),\n",
       " ('ALP', 'string'),\n",
       " ('ALT', 'string'),\n",
       " ('AST', 'string'),\n",
       " ('BIL', 'string'),\n",
       " ('CHE', 'string'),\n",
       " ('CHOL', 'string'),\n",
       " ('CREA', 'string'),\n",
       " ('GGT', 'string'),\n",
       " ('PROT', 'string')]"
      ]
     },
     "execution_count": 29,
     "metadata": {},
     "output_type": "execute_result"
    }
   ],
   "source": [
    "# Check fo the Dtype\n",
    "df.dtypes"
   ]
  },
  {
   "cell_type": "code",
   "execution_count": 30,
   "metadata": {},
   "outputs": [
    {
     "name": "stdout",
     "output_type": "stream",
     "text": [
      "root\n",
      " |-- _c0: string (nullable = true)\n",
      " |-- Category: string (nullable = true)\n",
      " |-- Age: string (nullable = true)\n",
      " |-- Sex: string (nullable = true)\n",
      " |-- ALB: string (nullable = true)\n",
      " |-- ALP: string (nullable = true)\n",
      " |-- ALT: string (nullable = true)\n",
      " |-- AST: string (nullable = true)\n",
      " |-- BIL: string (nullable = true)\n",
      " |-- CHE: string (nullable = true)\n",
      " |-- CHOL: string (nullable = true)\n",
      " |-- CREA: string (nullable = true)\n",
      " |-- GGT: string (nullable = true)\n",
      " |-- PROT: string (nullable = true)\n",
      "\n"
     ]
    }
   ],
   "source": [
    "# Get the Schema\n",
    "df.printSchema()"
   ]
  },
  {
   "cell_type": "code",
   "execution_count": 31,
   "metadata": {},
   "outputs": [
    {
     "data": {
      "text/plain": [
       "615"
      ]
     },
     "execution_count": 31,
     "metadata": {},
     "output_type": "execute_result"
    }
   ],
   "source": [
    "# Check the number of rowa\n",
    "df.count()"
   ]
  },
  {
   "cell_type": "code",
   "execution_count": 32,
   "metadata": {},
   "outputs": [
    {
     "data": {
      "text/plain": [
       "14"
      ]
     },
     "execution_count": 32,
     "metadata": {},
     "output_type": "execute_result"
    }
   ],
   "source": [
    "# Check the namber of columns\n",
    "len(df.columns)"
   ]
  },
  {
   "cell_type": "code",
   "execution_count": 33,
   "metadata": {},
   "outputs": [
    {
     "name": "stdout",
     "output_type": "stream",
     "text": [
      "615 14\n"
     ]
    }
   ],
   "source": [
    "# Get the shape (rows, cols)\n",
    "print(df.count(), len(df.columns))"
   ]
  },
  {
   "cell_type": "code",
   "execution_count": 39,
   "metadata": {},
   "outputs": [],
   "source": [
    "#### Descriptive sumary"
   ]
  },
  {
   "cell_type": "code",
   "execution_count": 35,
   "metadata": {},
   "outputs": [
    {
     "data": {
      "text/plain": [
       "DataFrame[summary: string, _c0: string, Category: string, Age: string, Sex: string, ALB: string, ALP: string, ALT: string, AST: string, BIL: string, CHE: string, CHOL: string, CREA: string, GGT: string, PROT: string]"
      ]
     },
     "execution_count": 35,
     "metadata": {},
     "output_type": "execute_result"
    }
   ],
   "source": [
    "df.describe()"
   ]
  },
  {
   "cell_type": "code",
   "execution_count": 36,
   "metadata": {},
   "outputs": [
    {
     "name": "stdout",
     "output_type": "stream",
     "text": [
      "+-------+------------------+-------------+------------------+----+-----------------+------------------+------------------+-----------------+------------------+------------------+------------------+-----------------+-----------------+-----------------+\n",
      "|summary|               _c0|     Category|               Age| Sex|              ALB|               ALP|               ALT|              AST|               BIL|               CHE|              CHOL|             CREA|              GGT|             PROT|\n",
      "+-------+------------------+-------------+------------------+----+-----------------+------------------+------------------+-----------------+------------------+------------------+------------------+-----------------+-----------------+-----------------+\n",
      "|  count|               615|          615|               615| 615|              615|               615|               615|              615|               615|               615|               615|              615|              615|              615|\n",
      "|   mean|             308.0|         null| 47.40813008130081|null|41.62019543973941| 68.28391959798999| 28.45081433224754|34.78634146341462|11.396747967479675| 8.196634146341458| 5.368099173553719|81.28780487804877|39.53317073170732|72.04413680781768|\n",
      "| stddev|177.67948671695333|         null|10.055105445519239|null|5.780629404103076|26.028315300123676|25.469688813870942|33.09069033855156|19.673149805846588|2.2056572704292927|1.1327284311597354|49.75616601234976|54.66107123891245|5.402635737104955|\n",
      "|    min|                 1|0=Blood Donor|                19|   f|             14.9|             100.4|               0.9|             10.6|               0.8|              1.42|              1.43|              100|               10|             44.8|\n",
      "|    max|                99|  3=Cirrhosis|                77|   m|               NA|                NA|                NA|               99|                91|              9.99|                NA|               99|             99.7|               NA|\n",
      "+-------+------------------+-------------+------------------+----+-----------------+------------------+------------------+-----------------+------------------+------------------+------------------+-----------------+-----------------+-----------------+\n",
      "\n"
     ]
    }
   ],
   "source": [
    "df.describe().show()"
   ]
  },
  {
   "cell_type": "code",
   "execution_count": 38,
   "metadata": {},
   "outputs": [
    {
     "name": "stdout",
     "output_type": "stream",
     "text": [
      "+-------+------------------+\n",
      "|summary|               age|\n",
      "+-------+------------------+\n",
      "|  count|               615|\n",
      "|   mean| 47.40813008130081|\n",
      "| stddev|10.055105445519239|\n",
      "|    min|                19|\n",
      "|    max|                77|\n",
      "+-------+------------------+\n",
      "\n"
     ]
    }
   ],
   "source": [
    "# Get descriptive sumary of a column\n",
    "df.describe('age').show()"
   ]
  },
  {
   "cell_type": "markdown",
   "metadata": {},
   "source": [
    "#### Selection of Columns\n",
    "* Dont bring out the entire column\n",
    "   + Bracket Notation df[col]\n",
    "   + Dot Notation     df.col"
   ]
  },
  {
   "cell_type": "code",
   "execution_count": 40,
   "metadata": {},
   "outputs": [
    {
     "data": {
      "text/plain": [
       "['_c0',\n",
       " 'Category',\n",
       " 'Age',\n",
       " 'Sex',\n",
       " 'ALB',\n",
       " 'ALP',\n",
       " 'ALT',\n",
       " 'AST',\n",
       " 'BIL',\n",
       " 'CHE',\n",
       " 'CHOL',\n",
       " 'CREA',\n",
       " 'GGT',\n",
       " 'PROT']"
      ]
     },
     "execution_count": 40,
     "metadata": {},
     "output_type": "execute_result"
    }
   ],
   "source": [
    "# Select a column\n",
    "df.columns"
   ]
  },
  {
   "cell_type": "code",
   "execution_count": 41,
   "metadata": {
    "collapsed": true,
    "jupyter": {
     "outputs_hidden": true
    },
    "tags": []
   },
   "outputs": [
    {
     "name": "stdout",
     "output_type": "stream",
     "text": [
      "+---+\n",
      "|Age|\n",
      "+---+\n",
      "| 32|\n",
      "| 32|\n",
      "| 32|\n",
      "| 32|\n",
      "| 32|\n",
      "| 32|\n",
      "| 32|\n",
      "| 32|\n",
      "| 32|\n",
      "| 32|\n",
      "| 32|\n",
      "| 33|\n",
      "| 33|\n",
      "| 33|\n",
      "| 33|\n",
      "| 33|\n",
      "| 33|\n",
      "| 33|\n",
      "| 33|\n",
      "| 33|\n",
      "+---+\n",
      "only showing top 20 rows\n",
      "\n"
     ]
    }
   ],
   "source": [
    "# Selection\n",
    "df.select('Age').show()"
   ]
  },
  {
   "cell_type": "code",
   "execution_count": 42,
   "metadata": {
    "collapsed": true,
    "jupyter": {
     "outputs_hidden": true
    },
    "tags": []
   },
   "outputs": [
    {
     "name": "stdout",
     "output_type": "stream",
     "text": [
      "+---+\n",
      "|AGE|\n",
      "+---+\n",
      "| 32|\n",
      "| 32|\n",
      "| 32|\n",
      "| 32|\n",
      "| 32|\n",
      "| 32|\n",
      "| 32|\n",
      "| 32|\n",
      "| 32|\n",
      "| 32|\n",
      "| 32|\n",
      "| 33|\n",
      "| 33|\n",
      "| 33|\n",
      "| 33|\n",
      "| 33|\n",
      "| 33|\n",
      "| 33|\n",
      "| 33|\n",
      "| 33|\n",
      "+---+\n",
      "only showing top 20 rows\n",
      "\n"
     ]
    }
   ],
   "source": [
    "# Irrespective of case of column\n",
    "df.select('AGE').show()"
   ]
  },
  {
   "cell_type": "code",
   "execution_count": 43,
   "metadata": {
    "collapsed": true,
    "jupyter": {
     "outputs_hidden": true
    },
    "tags": []
   },
   "outputs": [
    {
     "name": "stdout",
     "output_type": "stream",
     "text": [
      "+---+\n",
      "|age|\n",
      "+---+\n",
      "| 32|\n",
      "| 32|\n",
      "| 32|\n",
      "| 32|\n",
      "| 32|\n",
      "| 32|\n",
      "| 32|\n",
      "| 32|\n",
      "| 32|\n",
      "| 32|\n",
      "| 32|\n",
      "| 33|\n",
      "| 33|\n",
      "| 33|\n",
      "| 33|\n",
      "| 33|\n",
      "| 33|\n",
      "| 33|\n",
      "| 33|\n",
      "| 33|\n",
      "+---+\n",
      "only showing top 20 rows\n",
      "\n"
     ]
    }
   ],
   "source": [
    "# Irrespective of case of column\n",
    "df.select('age').show()"
   ]
  },
  {
   "cell_type": "code",
   "execution_count": 44,
   "metadata": {
    "collapsed": true,
    "jupyter": {
     "outputs_hidden": true
    },
    "tags": []
   },
   "outputs": [
    {
     "name": "stdout",
     "output_type": "stream",
     "text": [
      "+---+-------------+\n",
      "|Age|     Category|\n",
      "+---+-------------+\n",
      "| 32|0=Blood Donor|\n",
      "| 32|0=Blood Donor|\n",
      "| 32|0=Blood Donor|\n",
      "| 32|0=Blood Donor|\n",
      "| 32|0=Blood Donor|\n",
      "| 32|0=Blood Donor|\n",
      "| 32|0=Blood Donor|\n",
      "| 32|0=Blood Donor|\n",
      "| 32|0=Blood Donor|\n",
      "| 32|0=Blood Donor|\n",
      "| 32|0=Blood Donor|\n",
      "| 33|0=Blood Donor|\n",
      "| 33|0=Blood Donor|\n",
      "| 33|0=Blood Donor|\n",
      "| 33|0=Blood Donor|\n",
      "| 33|0=Blood Donor|\n",
      "| 33|0=Blood Donor|\n",
      "| 33|0=Blood Donor|\n",
      "| 33|0=Blood Donor|\n",
      "| 33|0=Blood Donor|\n",
      "+---+-------------+\n",
      "only showing top 20 rows\n",
      "\n"
     ]
    }
   ],
   "source": [
    "# Select multiple columns\n",
    "df.select('Age','Category').show()"
   ]
  },
  {
   "cell_type": "code",
   "execution_count": 46,
   "metadata": {},
   "outputs": [
    {
     "data": {
      "text/plain": [
       "Column<'Age'>"
      ]
     },
     "execution_count": 46,
     "metadata": {},
     "output_type": "execute_result"
    }
   ],
   "source": [
    "# Bracket Notation. Bring the comlun name, not the entire column *\n",
    "df['Age']"
   ]
  },
  {
   "cell_type": "code",
   "execution_count": 47,
   "metadata": {},
   "outputs": [
    {
     "data": {
      "text/plain": [
       "Column<'Age'>"
      ]
     },
     "execution_count": 47,
     "metadata": {},
     "output_type": "execute_result"
    }
   ],
   "source": [
    "# Dot Notation *\n",
    "df.Age"
   ]
  },
  {
   "cell_type": "markdown",
   "metadata": {},
   "source": [
    "#### Conditions & Filter\n",
    "+ df.filter\n",
    "+ df.where"
   ]
  },
  {
   "cell_type": "code",
   "execution_count": 45,
   "metadata": {},
   "outputs": [
    {
     "name": "stdout",
     "output_type": "stream",
     "text": [
      "+---+-------------+---+---+----+----+----+----+----+-----+----+----+----+----+\n",
      "|_c0|     Category|Age|Sex| ALB| ALP| ALT| AST| BIL|  CHE|CHOL|CREA| GGT|PROT|\n",
      "+---+-------------+---+---+----+----+----+----+----+-----+----+----+----+----+\n",
      "|  1|0=Blood Donor| 32|  m|38.5|52.5| 7.7|22.1| 7.5| 6.93|3.23| 106|12.1|  69|\n",
      "|  2|0=Blood Donor| 32|  m|38.5|70.3|  18|24.7| 3.9|11.17| 4.8|  74|15.6|76.5|\n",
      "|  3|0=Blood Donor| 32|  m|46.9|74.7|36.2|52.6| 6.1| 8.84| 5.2|  86|33.2|79.3|\n",
      "|  4|0=Blood Donor| 32|  m|43.2|  52|30.6|22.6|18.9| 7.33|4.74|  80|33.8|75.7|\n",
      "|  5|0=Blood Donor| 32|  m|39.2|74.1|32.6|24.8| 9.6| 9.15|4.32|  76|29.9|68.7|\n",
      "+---+-------------+---+---+----+----+----+----+----+-----+----+----+----+----+\n",
      "only showing top 5 rows\n",
      "\n"
     ]
    }
   ],
   "source": [
    "df.show(5)"
   ]
  },
  {
   "cell_type": "code",
   "execution_count": 49,
   "metadata": {},
   "outputs": [
    {
     "name": "stdout",
     "output_type": "stream",
     "text": [
      "+---+-----------+---+---+---+----+----+-----+---+---+----+----+----+----+\n",
      "|_c0|   Category|Age|Sex|ALB| ALP| ALT|  AST|BIL|CHE|CHOL|CREA| GGT|PROT|\n",
      "+---+-----------+---+---+---+----+----+-----+---+---+----+----+----+----+\n",
      "|544|1=Hepatitis| 25|  m| 42|38.2|63.3|187.7| 14|  6|4.28|66.9|40.2|70.5|\n",
      "+---+-----------+---+---+---+----+----+-----+---+---+----+----+----+----+\n",
      "\n"
     ]
    }
   ],
   "source": [
    "# Filter : Method 1\n",
    "df.filter(df['Age'] == 25).show()"
   ]
  },
  {
   "cell_type": "code",
   "execution_count": 50,
   "metadata": {},
   "outputs": [
    {
     "name": "stdout",
     "output_type": "stream",
     "text": [
      "+---+-----------+---+---+---+----+----+-----+---+---+----+----+----+----+\n",
      "|_c0|   Category|Age|Sex|ALB| ALP| ALT|  AST|BIL|CHE|CHOL|CREA| GGT|PROT|\n",
      "+---+-----------+---+---+---+----+----+-----+---+---+----+----+----+----+\n",
      "|544|1=Hepatitis| 25|  m| 42|38.2|63.3|187.7| 14|  6|4.28|66.9|40.2|70.5|\n",
      "+---+-----------+---+---+---+----+----+-----+---+---+----+----+----+----+\n",
      "\n"
     ]
    }
   ],
   "source": [
    "# Filter : Method 1\n",
    "df.filter(df.Age == 25).show()"
   ]
  },
  {
   "cell_type": "code",
   "execution_count": 51,
   "metadata": {
    "collapsed": true,
    "jupyter": {
     "outputs_hidden": true
    },
    "tags": []
   },
   "outputs": [
    {
     "name": "stdout",
     "output_type": "stream",
     "text": [
      "+---+-------------+---+---+----+-----+----+----+----+-----+----+----+----+----+\n",
      "|_c0|     Category|Age|Sex| ALB|  ALP| ALT| AST| BIL|  CHE|CHOL|CREA| GGT|PROT|\n",
      "+---+-------------+---+---+----+-----+----+----+----+-----+----+----+----+----+\n",
      "|319|0=Blood Donor| 32|  f|39.9| 35.2|  22|29.8| 6.3| 8.16|4.37|  60| 4.5|72.5|\n",
      "|320|0=Blood Donor| 32|  f|47.4| 52.5|19.1|17.1| 4.6|10.19|  NA|  63|  23|72.2|\n",
      "|321|0=Blood Donor| 32|  f|41.1| 42.8|10.1|14.1|23.2| 6.08|3.75|  53| 9.3|68.9|\n",
      "|322|0=Blood Donor| 32|  f|43.5| 66.2| 9.2|17.8| 5.7| 7.14|4.38|  71|44.6|76.1|\n",
      "|323|0=Blood Donor| 33|  f|  36| 77.5|14.8|  22| 4.4| 8.61|5.26|  66|13.1|66.1|\n",
      "|324|0=Blood Donor| 33|  f|36.9| 51.7|17.4|  22| 8.3|    7|5.02|  52|19.1|  72|\n",
      "|325|0=Blood Donor| 33|  f|44.3|   74|49.7|52.3| 8.5| 6.49|3.34|  73|44.7|73.8|\n",
      "|326|0=Blood Donor| 33|  f|38.1| 35.2|11.9|18.3|   3| 6.09|5.22|  76|15.4|  72|\n",
      "|327|0=Blood Donor| 33|  f|  41| 61.1|  27|  28|   6| 8.36|4.93|  70|24.7|70.5|\n",
      "|328|0=Blood Donor| 33|  f|38.2| 54.4|17.3|21.2| 7.1| 8.67|5.69|  68|32.1|66.9|\n",
      "|329|0=Blood Donor| 33|  f|47.6| 95.5|18.8|22.2| 2.4| 7.84|5.57|  71|16.9|  75|\n",
      "|330|0=Blood Donor| 33|  f|42.4|137.2|14.2|13.1| 3.4| 8.23|  NA|  48|25.7|74.4|\n",
      "|331|0=Blood Donor| 33|  f|45.9|   72|37.8|33.5|17.7| 7.32|4.25|  81|21.5|78.3|\n",
      "|332|0=Blood Donor| 33|  f|35.4| 53.5| 9.8|17.6| 3.8|    6|4.48|  78|   8|71.5|\n",
      "|333|0=Blood Donor| 33|  f|38.5| 82.2|11.9|  17| 7.3| 7.23|3.92|  50|   7|73.3|\n",
      "|334|0=Blood Donor| 33|  f|41.2| 73.1|14.3|20.8|11.1|  7.4|3.22|  56|11.4|69.9|\n",
      "|335|0=Blood Donor| 33|  f|40.6| 73.7|12.6|16.3| 3.1| 7.75|6.36|  67|19.5|71.4|\n",
      "|336|0=Blood Donor| 34|  f|37.3| 36.3|19.9|28.7| 3.8|  3.9|4.94|  86| 4.9|70.7|\n",
      "|337|0=Blood Donor| 34|  f|41.9| 47.4|20.8|28.5|   8| 7.66|4.61|  97|11.2|71.9|\n",
      "|338|0=Blood Donor| 34|  f|36.3| 63.2|21.4|20.4| 4.6| 7.41|5.17|  75|18.7|64.2|\n",
      "+---+-------------+---+---+----+-----+----+----+----+-----+----+----+----+----+\n",
      "only showing top 20 rows\n",
      "\n"
     ]
    }
   ],
   "source": [
    "# Where : Method 1\n",
    "df.where(df['Sex'] == 'f').show()"
   ]
  },
  {
   "cell_type": "code",
   "execution_count": null,
   "metadata": {},
   "outputs": [],
   "source": []
  },
  {
   "cell_type": "code",
   "execution_count": 53,
   "metadata": {
    "tags": []
   },
   "outputs": [
    {
     "name": "stdout",
     "output_type": "stream",
     "text": [
      "+---+---+-------------+\n",
      "|Age|Sex|     Category|\n",
      "+---+---+-------------+\n",
      "| 32|  f|0=Blood Donor|\n",
      "| 32|  f|0=Blood Donor|\n",
      "| 32|  f|0=Blood Donor|\n",
      "| 32|  f|0=Blood Donor|\n",
      "| 33|  f|0=Blood Donor|\n",
      "+---+---+-------------+\n",
      "only showing top 5 rows\n",
      "\n"
     ]
    }
   ],
   "source": [
    "# Where : Method 1\n",
    "df.where(df['Sex'] == 'f').select('Age','Sex','Category').show(5)"
   ]
  },
  {
   "cell_type": "code",
   "execution_count": 54,
   "metadata": {},
   "outputs": [
    {
     "name": "stdout",
     "output_type": "stream",
     "text": [
      "+---+-------------+---+---+----+----+----+----+----+-----+----+----+----+----+\n",
      "|_c0|     Category|Age|Sex| ALB| ALP| ALT| AST| BIL|  CHE|CHOL|CREA| GGT|PROT|\n",
      "+---+-------------+---+---+----+----+----+----+----+-----+----+----+----+----+\n",
      "|  1|0=Blood Donor| 32|  m|38.5|52.5| 7.7|22.1| 7.5| 6.93|3.23| 106|12.1|  69|\n",
      "|  2|0=Blood Donor| 32|  m|38.5|70.3|  18|24.7| 3.9|11.17| 4.8|  74|15.6|76.5|\n",
      "|  3|0=Blood Donor| 32|  m|46.9|74.7|36.2|52.6| 6.1| 8.84| 5.2|  86|33.2|79.3|\n",
      "|  4|0=Blood Donor| 32|  m|43.2|  52|30.6|22.6|18.9| 7.33|4.74|  80|33.8|75.7|\n",
      "|  5|0=Blood Donor| 32|  m|39.2|74.1|32.6|24.8| 9.6| 9.15|4.32|  76|29.9|68.7|\n",
      "+---+-------------+---+---+----+----+----+----+----+-----+----+----+----+----+\n",
      "only showing top 5 rows\n",
      "\n"
     ]
    }
   ],
   "source": [
    "df.show(5)"
   ]
  },
  {
   "cell_type": "code",
   "execution_count": 62,
   "metadata": {
    "collapsed": true,
    "jupyter": {
     "outputs_hidden": true
    },
    "tags": []
   },
   "outputs": [
    {
     "name": "stdout",
     "output_type": "stream",
     "text": [
      "+---+-------------+---+---+----+----+----+----+----+-----+----+----+----+----+---------+\n",
      "|_c0|     Category|Age|Sex| ALB| ALP| ALT| AST| BIL|  CHE|CHOL|CREA| GGT|PROT|Alb_by_10|\n",
      "+---+-------------+---+---+----+----+----+----+----+-----+----+----+----+----+---------+\n",
      "|  1|0=Blood Donor| 32|  m|38.5|52.5| 7.7|22.1| 7.5| 6.93|3.23| 106|12.1|  69|    385.0|\n",
      "|  2|0=Blood Donor| 32|  m|38.5|70.3|  18|24.7| 3.9|11.17| 4.8|  74|15.6|76.5|    385.0|\n",
      "|  3|0=Blood Donor| 32|  m|46.9|74.7|36.2|52.6| 6.1| 8.84| 5.2|  86|33.2|79.3|    469.0|\n",
      "|  4|0=Blood Donor| 32|  m|43.2|  52|30.6|22.6|18.9| 7.33|4.74|  80|33.8|75.7|    432.0|\n",
      "|  5|0=Blood Donor| 32|  m|39.2|74.1|32.6|24.8| 9.6| 9.15|4.32|  76|29.9|68.7|    392.0|\n",
      "|  6|0=Blood Donor| 32|  m|41.6|43.3|18.5|19.7|12.3| 9.92|6.05| 111|  91|  74|    416.0|\n",
      "|  7|0=Blood Donor| 32|  m|46.3|41.3|17.5|17.8| 8.5| 7.01|4.79|  70|16.9|74.5|    463.0|\n",
      "|  8|0=Blood Donor| 32|  m|42.2|41.9|35.8|31.1|16.1| 5.82| 4.6| 109|21.5|67.1|    422.0|\n",
      "|  9|0=Blood Donor| 32|  m|50.9|65.5|23.2|21.2| 6.9| 8.69| 4.1|  83|13.7|71.3|    509.0|\n",
      "| 10|0=Blood Donor| 32|  m|42.4|86.3|20.3|  20|35.2| 5.46|4.45|  81|15.9|69.9|    424.0|\n",
      "| 11|0=Blood Donor| 32|  m|44.3|52.3|21.7|22.4|17.2| 4.15|3.57|  78|24.1|75.4|    443.0|\n",
      "| 12|0=Blood Donor| 33|  m|46.4|68.2|10.3|  20| 5.7| 7.36| 4.3|  79|18.7|68.6|    464.0|\n",
      "| 13|0=Blood Donor| 33|  m|36.3|78.6|23.6|  22|   7| 8.56|5.38|  78|19.4|68.7|    363.0|\n",
      "| 14|0=Blood Donor| 33|  m|  39|51.7|15.9|  24| 6.8| 6.46|3.38|  65|   7|70.4|    390.0|\n",
      "| 15|0=Blood Donor| 33|  m|38.7|39.8|22.5|  23| 4.1| 4.63|4.97|  63|15.2|71.9|    387.0|\n",
      "| 16|0=Blood Donor| 33|  m|41.8|  65|33.1|  38| 6.6| 8.83|4.43|  71|  24|72.7|    418.0|\n",
      "| 17|0=Blood Donor| 33|  m|40.9|  73|17.2|22.9|  10| 6.98|5.22|  90|14.7|72.4|    409.0|\n",
      "| 18|0=Blood Donor| 33|  m|45.2|88.3|32.4|31.2|10.1| 9.78|5.51| 102|48.5|76.5|    452.0|\n",
      "| 19|0=Blood Donor| 33|  m|36.6|57.1|38.9|40.3|24.9| 9.62| 5.5| 112|27.6|69.3|    366.0|\n",
      "| 20|0=Blood Donor| 33|  m|  42|63.1|32.6|34.9|11.2| 7.01|4.05| 105|19.1|68.1|    420.0|\n",
      "+---+-------------+---+---+----+----+----+----+----+-----+----+----+----+----+---------+\n",
      "only showing top 20 rows\n",
      "\n"
     ]
    }
   ],
   "source": [
    "# Add column\n",
    "df.withColumn('Alb_by_10', df['ALB'] * 10).show()"
   ]
  },
  {
   "cell_type": "code",
   "execution_count": 63,
   "metadata": {},
   "outputs": [],
   "source": [
    "df2 = df.withColumn('Alb_by_10', df['ALB'] * 10)"
   ]
  },
  {
   "cell_type": "code",
   "execution_count": 64,
   "metadata": {},
   "outputs": [
    {
     "name": "stdout",
     "output_type": "stream",
     "text": [
      "+---+-------------+---+---+----+----+----+----+----+-----+----+----+----+----+---------+\n",
      "|_c0|     Category|Age|Sex| ALB| ALP| ALT| AST| BIL|  CHE|CHOL|CREA| GGT|PROT|Alb_by_10|\n",
      "+---+-------------+---+---+----+----+----+----+----+-----+----+----+----+----+---------+\n",
      "|  1|0=Blood Donor| 32|  m|38.5|52.5| 7.7|22.1| 7.5| 6.93|3.23| 106|12.1|  69|    385.0|\n",
      "|  2|0=Blood Donor| 32|  m|38.5|70.3|  18|24.7| 3.9|11.17| 4.8|  74|15.6|76.5|    385.0|\n",
      "|  3|0=Blood Donor| 32|  m|46.9|74.7|36.2|52.6| 6.1| 8.84| 5.2|  86|33.2|79.3|    469.0|\n",
      "|  4|0=Blood Donor| 32|  m|43.2|  52|30.6|22.6|18.9| 7.33|4.74|  80|33.8|75.7|    432.0|\n",
      "|  5|0=Blood Donor| 32|  m|39.2|74.1|32.6|24.8| 9.6| 9.15|4.32|  76|29.9|68.7|    392.0|\n",
      "+---+-------------+---+---+----+----+----+----+----+-----+----+----+----+----+---------+\n",
      "only showing top 5 rows\n",
      "\n"
     ]
    }
   ],
   "source": [
    "df2.show(5)"
   ]
  },
  {
   "cell_type": "code",
   "execution_count": 67,
   "metadata": {},
   "outputs": [
    {
     "name": "stdout",
     "output_type": "stream",
     "text": [
      "+---+-------------+---+---+----+----+----+----+----+-----+----+----+----+----+\n",
      "|_c0|     Category|Age|Sex| ALB| ALP| ALT| AST| BIL|  CHE|CHOL|CREA| GGT|PROT|\n",
      "+---+-------------+---+---+----+----+----+----+----+-----+----+----+----+----+\n",
      "|  1|0=Blood Donor| 32|  m|38.5|52.5| 7.7|22.1| 7.5| 6.93|3.23| 106|12.1|  69|\n",
      "|  2|0=Blood Donor| 32|  m|38.5|70.3|  18|24.7| 3.9|11.17| 4.8|  74|15.6|76.5|\n",
      "|  3|0=Blood Donor| 32|  m|46.9|74.7|36.2|52.6| 6.1| 8.84| 5.2|  86|33.2|79.3|\n",
      "|  4|0=Blood Donor| 32|  m|43.2|  52|30.6|22.6|18.9| 7.33|4.74|  80|33.8|75.7|\n",
      "|  5|0=Blood Donor| 32|  m|39.2|74.1|32.6|24.8| 9.6| 9.15|4.32|  76|29.9|68.7|\n",
      "+---+-------------+---+---+----+----+----+----+----+-----+----+----+----+----+\n",
      "only showing top 5 rows\n",
      "\n"
     ]
    }
   ],
   "source": [
    "# Drop a column\n",
    "df2.drop('Alb_by_10').show(5)"
   ]
  },
  {
   "cell_type": "code",
   "execution_count": 68,
   "metadata": {},
   "outputs": [
    {
     "name": "stdout",
     "output_type": "stream",
     "text": [
      "+---+-------------+---+---+----+----+----+----+---+-----+----+----+----+----+---------+\n",
      "|_c0|     Category|Age|Sex| ALB| ALP| ALT| AST|BIL|  CHE|CHOL|CREA| GGT|PROT|Alb_by_10|\n",
      "+---+-------------+---+---+----+----+----+----+---+-----+----+----+----+----+---------+\n",
      "|  1|0=Blood Donor| 32|  m|38.5|52.5| 7.7|22.1|7.5| 6.93|3.23| 106|12.1|  69|    385.0|\n",
      "|  2|0=Blood Donor| 32|  m|38.5|70.3|  18|24.7|3.9|11.17| 4.8|  74|15.6|76.5|    385.0|\n",
      "|  3|0=Blood Donor| 32|  m|46.9|74.7|36.2|52.6|6.1| 8.84| 5.2|  86|33.2|79.3|    469.0|\n",
      "+---+-------------+---+---+----+----+----+----+---+-----+----+----+----+----+---------+\n",
      "only showing top 3 rows\n",
      "\n"
     ]
    }
   ],
   "source": [
    "df2.show(3)"
   ]
  },
  {
   "cell_type": "code",
   "execution_count": 69,
   "metadata": {},
   "outputs": [],
   "source": [
    "# Drop a column\n",
    "df2 = df2.drop('Alb_by_10')"
   ]
  },
  {
   "cell_type": "code",
   "execution_count": 70,
   "metadata": {},
   "outputs": [
    {
     "name": "stdout",
     "output_type": "stream",
     "text": [
      "+---+-------------+---+---+----+----+----+----+---+-----+----+----+----+----+\n",
      "|_c0|     Category|Age|Sex| ALB| ALP| ALT| AST|BIL|  CHE|CHOL|CREA| GGT|PROT|\n",
      "+---+-------------+---+---+----+----+----+----+---+-----+----+----+----+----+\n",
      "|  1|0=Blood Donor| 32|  m|38.5|52.5| 7.7|22.1|7.5| 6.93|3.23| 106|12.1|  69|\n",
      "|  2|0=Blood Donor| 32|  m|38.5|70.3|  18|24.7|3.9|11.17| 4.8|  74|15.6|76.5|\n",
      "|  3|0=Blood Donor| 32|  m|46.9|74.7|36.2|52.6|6.1| 8.84| 5.2|  86|33.2|79.3|\n",
      "+---+-------------+---+---+----+----+----+----+---+-----+----+----+----+----+\n",
      "only showing top 3 rows\n",
      "\n"
     ]
    }
   ],
   "source": [
    "df.show(3)"
   ]
  },
  {
   "cell_type": "code",
   "execution_count": 71,
   "metadata": {},
   "outputs": [
    {
     "name": "stdout",
     "output_type": "stream",
     "text": [
      "+--------------------+-----+\n",
      "|            Category|count|\n",
      "+--------------------+-----+\n",
      "|       0=Blood Donor|  533|\n",
      "|         3=Cirrhosis|   30|\n",
      "|          2=Fibrosis|   21|\n",
      "|0s=suspect Blood ...|    7|\n",
      "|         1=Hepatitis|   24|\n",
      "+--------------------+-----+\n",
      "\n"
     ]
    }
   ],
   "source": [
    "# GroupBy\n",
    "# df['category'].value_counts()  :pandas\n",
    "df.groupBy('Category').count().show()"
   ]
  },
  {
   "cell_type": "code",
   "execution_count": 73,
   "metadata": {},
   "outputs": [
    {
     "name": "stdout",
     "output_type": "stream",
     "text": [
      "+---+\n",
      "|Age|\n",
      "+---+\n",
      "| 51|\n",
      "| 54|\n",
      "| 29|\n",
      "| 42|\n",
      "| 64|\n",
      "| 30|\n",
      "| 34|\n",
      "| 59|\n",
      "| 35|\n",
      "| 52|\n",
      "| 71|\n",
      "| 47|\n",
      "| 43|\n",
      "| 70|\n",
      "| 61|\n",
      "| 27|\n",
      "| 75|\n",
      "| 46|\n",
      "| 77|\n",
      "| 60|\n",
      "+---+\n",
      "only showing top 20 rows\n",
      "\n"
     ]
    }
   ],
   "source": [
    "df.groupBy('Age').mean().show()"
   ]
  },
  {
   "cell_type": "code",
   "execution_count": null,
   "metadata": {},
   "outputs": [],
   "source": [
    "# Aggregation\n",
    "# df.groupBy('category').agg('col':'sum')"
   ]
  },
  {
   "cell_type": "code",
   "execution_count": 74,
   "metadata": {},
   "outputs": [
    {
     "name": "stdout",
     "output_type": "stream",
     "text": [
      "+--------------------+\n",
      "|            category|\n",
      "+--------------------+\n",
      "|       0=Blood Donor|\n",
      "|         3=Cirrhosis|\n",
      "|          2=Fibrosis|\n",
      "|0s=suspect Blood ...|\n",
      "|         1=Hepatitis|\n",
      "+--------------------+\n",
      "\n"
     ]
    }
   ],
   "source": [
    "# Unique values\n",
    "df.select('category').distinct().show()"
   ]
  },
  {
   "cell_type": "code",
   "execution_count": 76,
   "metadata": {},
   "outputs": [
    {
     "data": {
      "text/plain": [
       "5"
      ]
     },
     "execution_count": 76,
     "metadata": {},
     "output_type": "execute_result"
    }
   ],
   "source": [
    "# Unique values\n",
    "# We do not need to put SHOW() because it is an action\n",
    "df.select('category').distinct().count()"
   ]
  },
  {
   "cell_type": "code",
   "execution_count": 77,
   "metadata": {},
   "outputs": [
    {
     "name": "stdout",
     "output_type": "stream",
     "text": [
      "+------------------------+\n",
      "|count(DISTINCT category)|\n",
      "+------------------------+\n",
      "|                       5|\n",
      "+------------------------+\n",
      "\n"
     ]
    }
   ],
   "source": [
    "# Unique Values\n",
    "df.selectExpr('count(distinct(category))').show()"
   ]
  },
  {
   "cell_type": "markdown",
   "metadata": {},
   "source": [
    "#### Save Dataset\n",
    "+ CSV\n",
    "+ parquet\n",
    "+ etc"
   ]
  },
  {
   "cell_type": "code",
   "execution_count": 78,
   "metadata": {},
   "outputs": [
    {
     "name": "stdout",
     "output_type": "stream",
     "text": [
      "+---+-------------+---+---+----+----+----+----+---+-----+----+----+----+----+\n",
      "|_c0|     Category|Age|Sex| ALB| ALP| ALT| AST|BIL|  CHE|CHOL|CREA| GGT|PROT|\n",
      "+---+-------------+---+---+----+----+----+----+---+-----+----+----+----+----+\n",
      "|  1|0=Blood Donor| 32|  m|38.5|52.5| 7.7|22.1|7.5| 6.93|3.23| 106|12.1|  69|\n",
      "|  2|0=Blood Donor| 32|  m|38.5|70.3|  18|24.7|3.9|11.17| 4.8|  74|15.6|76.5|\n",
      "|  3|0=Blood Donor| 32|  m|46.9|74.7|36.2|52.6|6.1| 8.84| 5.2|  86|33.2|79.3|\n",
      "+---+-------------+---+---+----+----+----+----+---+-----+----+----+----+----+\n",
      "only showing top 3 rows\n",
      "\n"
     ]
    }
   ],
   "source": [
    "df.show(3)"
   ]
  },
  {
   "cell_type": "code",
   "execution_count": 79,
   "metadata": {},
   "outputs": [
    {
     "name": "stdout",
     "output_type": "stream",
     "text": [
      "['_c0', 'Category', 'Age', 'Sex', 'ALB', 'ALP', 'ALT', 'AST', 'BIL', 'CHE', 'CHOL', 'CREA', 'GGT', 'PROT']\n"
     ]
    }
   ],
   "source": [
    "print(df.columns)"
   ]
  },
  {
   "cell_type": "code",
   "execution_count": 80,
   "metadata": {},
   "outputs": [
    {
     "name": "stdout",
     "output_type": "stream",
     "text": [
      "+---+---+----+----+----+----+----+-----+----+----+----+----+-------------+\n",
      "|Age|Sex| ALB| ALP| ALT| AST| BIL|  CHE|CHOL|CREA| GGT|PROT|     Category|\n",
      "+---+---+----+----+----+----+----+-----+----+----+----+----+-------------+\n",
      "| 32|  m|38.5|52.5| 7.7|22.1| 7.5| 6.93|3.23| 106|12.1|  69|0=Blood Donor|\n",
      "| 32|  m|38.5|70.3|  18|24.7| 3.9|11.17| 4.8|  74|15.6|76.5|0=Blood Donor|\n",
      "| 32|  m|46.9|74.7|36.2|52.6| 6.1| 8.84| 5.2|  86|33.2|79.3|0=Blood Donor|\n",
      "| 32|  m|43.2|  52|30.6|22.6|18.9| 7.33|4.74|  80|33.8|75.7|0=Blood Donor|\n",
      "| 32|  m|39.2|74.1|32.6|24.8| 9.6| 9.15|4.32|  76|29.9|68.7|0=Blood Donor|\n",
      "| 32|  m|41.6|43.3|18.5|19.7|12.3| 9.92|6.05| 111|  91|  74|0=Blood Donor|\n",
      "| 32|  m|46.3|41.3|17.5|17.8| 8.5| 7.01|4.79|  70|16.9|74.5|0=Blood Donor|\n",
      "| 32|  m|42.2|41.9|35.8|31.1|16.1| 5.82| 4.6| 109|21.5|67.1|0=Blood Donor|\n",
      "| 32|  m|50.9|65.5|23.2|21.2| 6.9| 8.69| 4.1|  83|13.7|71.3|0=Blood Donor|\n",
      "| 32|  m|42.4|86.3|20.3|  20|35.2| 5.46|4.45|  81|15.9|69.9|0=Blood Donor|\n",
      "| 32|  m|44.3|52.3|21.7|22.4|17.2| 4.15|3.57|  78|24.1|75.4|0=Blood Donor|\n",
      "| 33|  m|46.4|68.2|10.3|  20| 5.7| 7.36| 4.3|  79|18.7|68.6|0=Blood Donor|\n",
      "| 33|  m|36.3|78.6|23.6|  22|   7| 8.56|5.38|  78|19.4|68.7|0=Blood Donor|\n",
      "| 33|  m|  39|51.7|15.9|  24| 6.8| 6.46|3.38|  65|   7|70.4|0=Blood Donor|\n",
      "| 33|  m|38.7|39.8|22.5|  23| 4.1| 4.63|4.97|  63|15.2|71.9|0=Blood Donor|\n",
      "| 33|  m|41.8|  65|33.1|  38| 6.6| 8.83|4.43|  71|  24|72.7|0=Blood Donor|\n",
      "| 33|  m|40.9|  73|17.2|22.9|  10| 6.98|5.22|  90|14.7|72.4|0=Blood Donor|\n",
      "| 33|  m|45.2|88.3|32.4|31.2|10.1| 9.78|5.51| 102|48.5|76.5|0=Blood Donor|\n",
      "| 33|  m|36.6|57.1|38.9|40.3|24.9| 9.62| 5.5| 112|27.6|69.3|0=Blood Donor|\n",
      "| 33|  m|  42|63.1|32.6|34.9|11.2| 7.01|4.05| 105|19.1|68.1|0=Blood Donor|\n",
      "+---+---+----+----+----+----+----+-----+----+----+----+----+-------------+\n",
      "only showing top 20 rows\n",
      "\n"
     ]
    }
   ],
   "source": [
    "df.select('Age','Sex','ALB','ALP','ALT','AST','BIL','CHE','CHOL','CREA','GGT','PROT','Category').show()"
   ]
  },
  {
   "cell_type": "code",
   "execution_count": 81,
   "metadata": {},
   "outputs": [],
   "source": [
    "df = df.select('Age','Sex','ALB','ALP','ALT','AST','BIL','CHE','CHOL','CREA','GGT','PROT','Category')"
   ]
  },
  {
   "cell_type": "code",
   "execution_count": 82,
   "metadata": {},
   "outputs": [],
   "source": [
    "# Save\n",
    "df.write.format('CSV').option('header','true').save('data/hcvdata_new.csv')"
   ]
  },
  {
   "cell_type": "code",
   "execution_count": null,
   "metadata": {},
   "outputs": [],
   "source": []
  },
  {
   "cell_type": "code",
   "execution_count": null,
   "metadata": {},
   "outputs": [],
   "source": []
  },
  {
   "cell_type": "code",
   "execution_count": null,
   "metadata": {},
   "outputs": [],
   "source": []
  }
 ],
 "metadata": {
  "kernelspec": {
   "display_name": "Python 3",
   "language": "python",
   "name": "python3"
  },
  "language_info": {
   "codemirror_mode": {
    "name": "ipython",
    "version": 3
   },
   "file_extension": ".py",
   "mimetype": "text/x-python",
   "name": "python",
   "nbconvert_exporter": "python",
   "pygments_lexer": "ipython3",
   "version": "3.8.5"
  }
 },
 "nbformat": 4,
 "nbformat_minor": 4
}
